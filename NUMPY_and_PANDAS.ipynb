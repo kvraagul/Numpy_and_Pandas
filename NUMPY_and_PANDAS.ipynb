{
  "nbformat": 4,
  "nbformat_minor": 0,
  "metadata": {
    "colab": {
      "name": "NUMPY and PANDAS.ipynb",
      "provenance": [],
      "toc_visible": true,
      "authorship_tag": "ABX9TyNR97e33bndbWXo5yiN2JrZ",
      "include_colab_link": true
    },
    "kernelspec": {
      "name": "python3",
      "display_name": "Python 3"
    },
    "language_info": {
      "name": "python"
    }
  },
  "cells": [
    {
      "cell_type": "markdown",
      "metadata": {
        "id": "view-in-github",
        "colab_type": "text"
      },
      "source": [
        "<a href=\"https://colab.research.google.com/github/kvraagul/Numpy_and_Pandas/blob/main/NUMPY_and_PANDAS.ipynb\" target=\"_parent\"><img src=\"https://colab.research.google.com/assets/colab-badge.svg\" alt=\"Open In Colab\"/></a>"
      ]
    },
    {
      "cell_type": "markdown",
      "metadata": {
        "id": "vxyneVuMOWRw"
      },
      "source": [
        "# NUMPY"
      ]
    },
    {
      "cell_type": "markdown",
      "metadata": {
        "id": "25mnARa5OspQ"
      },
      "source": [
        "NumPy is a Python library used for working with arrays. It also has functions for working in domain of linear algebra, fourier transform, and matrices. NumPy was created in 2005 by Travis Oliphant. It is an open source project and you can use it freely. NumPy stands for Numerical Python."
      ]
    },
    {
      "cell_type": "code",
      "metadata": {
        "id": "sUotIBp09XJv"
      },
      "source": [
        "import numpy as np"
      ],
      "execution_count": null,
      "outputs": []
    },
    {
      "cell_type": "markdown",
      "metadata": {
        "id": "iIzB_Iby9lFv"
      },
      "source": [
        "# MULTI-DIMENSIONAL ARRAY"
      ]
    },
    {
      "cell_type": "code",
      "metadata": {
        "colab": {
          "base_uri": "https://localhost:8080/"
        },
        "id": "rdayNK7Y9cDV",
        "outputId": "efa0324c-37e3-43aa-f9ca-c69dfa53135d"
      },
      "source": [
        "np.array([2,3])"
      ],
      "execution_count": null,
      "outputs": [
        {
          "output_type": "execute_result",
          "data": {
            "text/plain": [
              "array([2, 3])"
            ]
          },
          "metadata": {
            "tags": []
          },
          "execution_count": 2
        }
      ]
    },
    {
      "cell_type": "code",
      "metadata": {
        "colab": {
          "base_uri": "https://localhost:8080/"
        },
        "id": "MR7ZnsME9v5T",
        "outputId": "fadc4bc4-1c7b-4c93-d390-16e93b6dfdba"
      },
      "source": [
        "np.array([[1,2,3,4,5],[6,7,8,9,10]])"
      ],
      "execution_count": null,
      "outputs": [
        {
          "output_type": "execute_result",
          "data": {
            "text/plain": [
              "array([[ 1,  2,  3,  4,  5],\n",
              "       [ 6,  7,  8,  9, 10]])"
            ]
          },
          "metadata": {
            "tags": []
          },
          "execution_count": 3
        }
      ]
    },
    {
      "cell_type": "markdown",
      "metadata": {
        "id": "aG8ihcCT96Xl"
      },
      "source": [
        "# ZEROS"
      ]
    },
    {
      "cell_type": "code",
      "metadata": {
        "colab": {
          "base_uri": "https://localhost:8080/"
        },
        "id": "20hGx-fd955y",
        "outputId": "1920b390-9a62-4340-8c7b-653d8c6e339d"
      },
      "source": [
        "np.zeros((1,2))"
      ],
      "execution_count": null,
      "outputs": [
        {
          "output_type": "execute_result",
          "data": {
            "text/plain": [
              "array([[0., 0.]])"
            ]
          },
          "metadata": {
            "tags": []
          },
          "execution_count": 4
        }
      ]
    },
    {
      "cell_type": "code",
      "metadata": {
        "colab": {
          "base_uri": "https://localhost:8080/"
        },
        "id": "a1PLPD9l-EnK",
        "outputId": "c7c9633e-62ea-421e-9d59-80c925fdf08e"
      },
      "source": [
        "np.zeros((6,5))"
      ],
      "execution_count": null,
      "outputs": [
        {
          "output_type": "execute_result",
          "data": {
            "text/plain": [
              "array([[0., 0., 0., 0., 0.],\n",
              "       [0., 0., 0., 0., 0.],\n",
              "       [0., 0., 0., 0., 0.],\n",
              "       [0., 0., 0., 0., 0.],\n",
              "       [0., 0., 0., 0., 0.],\n",
              "       [0., 0., 0., 0., 0.]])"
            ]
          },
          "metadata": {
            "tags": []
          },
          "execution_count": 5
        }
      ]
    },
    {
      "cell_type": "markdown",
      "metadata": {
        "id": "Zl5OmG1N-Kj5"
      },
      "source": [
        "# FULL"
      ]
    },
    {
      "cell_type": "code",
      "metadata": {
        "colab": {
          "base_uri": "https://localhost:8080/"
        },
        "id": "w95Fn1jw-MXf",
        "outputId": "6abc53b2-dbfd-4531-b348-f285b277e121"
      },
      "source": [
        "np.full((2,4),10)"
      ],
      "execution_count": null,
      "outputs": [
        {
          "output_type": "execute_result",
          "data": {
            "text/plain": [
              "array([[10, 10, 10, 10],\n",
              "       [10, 10, 10, 10]])"
            ]
          },
          "metadata": {
            "tags": []
          },
          "execution_count": 6
        }
      ]
    },
    {
      "cell_type": "code",
      "metadata": {
        "colab": {
          "base_uri": "https://localhost:8080/"
        },
        "id": "6BPGtnr3-SdE",
        "outputId": "64cae38a-d5f8-449d-c325-851a72ab5026"
      },
      "source": [
        "np.full((1,3),8)"
      ],
      "execution_count": null,
      "outputs": [
        {
          "output_type": "execute_result",
          "data": {
            "text/plain": [
              "array([[8, 8, 8]])"
            ]
          },
          "metadata": {
            "tags": []
          },
          "execution_count": 7
        }
      ]
    },
    {
      "cell_type": "markdown",
      "metadata": {
        "id": "UtP_FV66-icV"
      },
      "source": [
        "# ARANGE"
      ]
    },
    {
      "cell_type": "code",
      "metadata": {
        "colab": {
          "base_uri": "https://localhost:8080/"
        },
        "id": "30uLgjY5-njS",
        "outputId": "6ce48f84-51c3-40ed-fae1-42008698341b"
      },
      "source": [
        "np.arange(0,10)"
      ],
      "execution_count": null,
      "outputs": [
        {
          "output_type": "execute_result",
          "data": {
            "text/plain": [
              "array([0, 1, 2, 3, 4, 5, 6, 7, 8, 9])"
            ]
          },
          "metadata": {
            "tags": []
          },
          "execution_count": 9
        }
      ]
    },
    {
      "cell_type": "code",
      "metadata": {
        "colab": {
          "base_uri": "https://localhost:8080/"
        },
        "id": "W9jIvy18_CMn",
        "outputId": "b484aad9-a772-4843-ba2e-74a293f007dc"
      },
      "source": [
        "np.arange(0,100,10)"
      ],
      "execution_count": null,
      "outputs": [
        {
          "output_type": "execute_result",
          "data": {
            "text/plain": [
              "array([ 0, 10, 20, 30, 40, 50, 60, 70, 80, 90])"
            ]
          },
          "metadata": {
            "tags": []
          },
          "execution_count": 11
        }
      ]
    },
    {
      "cell_type": "markdown",
      "metadata": {
        "id": "_nX2uXgp_txQ"
      },
      "source": [
        "# RANDOM"
      ]
    },
    {
      "cell_type": "markdown",
      "metadata": {
        "id": "g0jlgqXA_4tx"
      },
      "source": [
        "Initialize numpy arrays with random numbers"
      ]
    },
    {
      "cell_type": "code",
      "metadata": {
        "id": "Fa-WeyeQ_3x8"
      },
      "source": [
        "np.random.randint(1,10,5)"
      ],
      "execution_count": null,
      "outputs": []
    },
    {
      "cell_type": "code",
      "metadata": {
        "id": "PbKuaq04ATfM"
      },
      "source": [
        "np.random.randint(1,5,10)"
      ],
      "execution_count": null,
      "outputs": []
    },
    {
      "cell_type": "markdown",
      "metadata": {
        "id": "He7FvqRHBECR"
      },
      "source": [
        "# SHAPE"
      ]
    },
    {
      "cell_type": "markdown",
      "metadata": {
        "id": "flWknJfqBJax"
      },
      "source": [
        "Checking the shape of numpy arrays"
      ]
    },
    {
      "cell_type": "code",
      "metadata": {
        "colab": {
          "base_uri": "https://localhost:8080/"
        },
        "id": "uNETgH9qBPlo",
        "outputId": "c5708ad0-8428-4eef-ee4e-0af0ca3bb7e3"
      },
      "source": [
        "n1=np.array([[1,2,3,4],[5,6,7,8]])\n",
        "n1.shape"
      ],
      "execution_count": null,
      "outputs": [
        {
          "output_type": "execute_result",
          "data": {
            "text/plain": [
              "(2, 4)"
            ]
          },
          "metadata": {
            "tags": []
          },
          "execution_count": 17
        }
      ]
    },
    {
      "cell_type": "code",
      "metadata": {
        "colab": {
          "base_uri": "https://localhost:8080/"
        },
        "id": "1A_7JEaXB4-2",
        "outputId": "2bf942d8-a526-4047-dff5-8a8266a7f67f"
      },
      "source": [
        "n1.shape=(4,2)\n",
        "n1"
      ],
      "execution_count": null,
      "outputs": [
        {
          "output_type": "execute_result",
          "data": {
            "text/plain": [
              "array([[1, 2],\n",
              "       [3, 4],\n",
              "       [5, 6],\n",
              "       [7, 8]])"
            ]
          },
          "metadata": {
            "tags": []
          },
          "execution_count": 21
        }
      ]
    },
    {
      "cell_type": "code",
      "metadata": {
        "colab": {
          "base_uri": "https://localhost:8080/"
        },
        "id": "rlsuCHAgBjOM",
        "outputId": "eb87b7d4-6744-4936-94e6-160f035d73bb"
      },
      "source": [
        "n2=np.array([1,2])\n",
        "n2.shape"
      ],
      "execution_count": null,
      "outputs": [
        {
          "output_type": "execute_result",
          "data": {
            "text/plain": [
              "(2,)"
            ]
          },
          "metadata": {
            "tags": []
          },
          "execution_count": 18
        }
      ]
    },
    {
      "cell_type": "markdown",
      "metadata": {
        "id": "Soy-wOCfC55-"
      },
      "source": [
        "# JOINING NUMPY ARRAYS"
      ]
    },
    {
      "cell_type": "markdown",
      "metadata": {
        "id": "VtbxVsW0CwLd"
      },
      "source": [
        "stack() function is used to join a sequence of same dimension arrays along a new axis."
      ]
    },
    {
      "cell_type": "code",
      "metadata": {
        "id": "q9AUgbEuDdew"
      },
      "source": [
        "n1=np.array([10,20,30])\n",
        "n2=np.array([40,50,60])"
      ],
      "execution_count": null,
      "outputs": []
    },
    {
      "cell_type": "code",
      "metadata": {
        "colab": {
          "base_uri": "https://localhost:8080/"
        },
        "id": "bz38s8W-Dw62",
        "outputId": "0e1a4b7e-d5d0-4f86-a127-d219b6e92916"
      },
      "source": [
        "np.vstack((n1,n2))"
      ],
      "execution_count": null,
      "outputs": [
        {
          "output_type": "execute_result",
          "data": {
            "text/plain": [
              "array([[10, 20, 30],\n",
              "       [40, 50, 60]])"
            ]
          },
          "metadata": {
            "tags": []
          },
          "execution_count": 26
        }
      ]
    },
    {
      "cell_type": "code",
      "metadata": {
        "colab": {
          "base_uri": "https://localhost:8080/"
        },
        "id": "VJUMCGq0D9t5",
        "outputId": "0d682ab7-941f-46d5-b710-af013d017083"
      },
      "source": [
        "np.hstack((n1,n2))"
      ],
      "execution_count": null,
      "outputs": [
        {
          "output_type": "execute_result",
          "data": {
            "text/plain": [
              "array([10, 20, 30, 40, 50, 60])"
            ]
          },
          "metadata": {
            "tags": []
          },
          "execution_count": 27
        }
      ]
    },
    {
      "cell_type": "code",
      "metadata": {
        "colab": {
          "base_uri": "https://localhost:8080/"
        },
        "id": "DVI0qlOIEJ4s",
        "outputId": "cb98c7cd-c00b-48df-af5a-dd64486be196"
      },
      "source": [
        "np.column_stack((n1,n2))"
      ],
      "execution_count": null,
      "outputs": [
        {
          "output_type": "execute_result",
          "data": {
            "text/plain": [
              "array([[10, 40],\n",
              "       [20, 50],\n",
              "       [30, 60]])"
            ]
          },
          "metadata": {
            "tags": []
          },
          "execution_count": 28
        }
      ]
    },
    {
      "cell_type": "markdown",
      "metadata": {
        "id": "BUlJxPkOEcdA"
      },
      "source": [
        "# INTERSECTION AND DIFFERENCES"
      ]
    },
    {
      "cell_type": "markdown",
      "metadata": {
        "id": "2WIJwj__Eh7A"
      },
      "source": [
        "INTERSECT - Find similar numbers in numpy arrays"
      ]
    },
    {
      "cell_type": "code",
      "metadata": {
        "colab": {
          "base_uri": "https://localhost:8080/"
        },
        "id": "FSrKLsLcFwzG",
        "outputId": "3bec5f5d-9016-4917-ff4d-7cfdedf7478e"
      },
      "source": [
        "n1=np.array([10,20,30,40,50,60])\n",
        "n2=np.array([40,50,60,70,80,90])\n",
        "np.intersect1d(n1,n2)"
      ],
      "execution_count": null,
      "outputs": [
        {
          "output_type": "execute_result",
          "data": {
            "text/plain": [
              "array([40, 50, 60])"
            ]
          },
          "metadata": {
            "tags": []
          },
          "execution_count": 31
        }
      ]
    },
    {
      "cell_type": "markdown",
      "metadata": {
        "id": "3EZLeWnNGgfC"
      },
      "source": [
        "DIFFERENCE - Difference w.r.t n1"
      ]
    },
    {
      "cell_type": "code",
      "metadata": {
        "colab": {
          "base_uri": "https://localhost:8080/"
        },
        "id": "xEaK-7MjGvqU",
        "outputId": "1bff78d6-6ba5-4585-c312-6ced0d2561ed"
      },
      "source": [
        "n1=np.array([10,20,30,40,50,60])\n",
        "n2=np.array([40,50,60,70,80,90])\n",
        "np.setdiff1d(n1,n2)"
      ],
      "execution_count": null,
      "outputs": [
        {
          "output_type": "execute_result",
          "data": {
            "text/plain": [
              "array([10, 20, 30])"
            ]
          },
          "metadata": {
            "tags": []
          },
          "execution_count": 32
        }
      ]
    },
    {
      "cell_type": "markdown",
      "metadata": {
        "id": "VS1fwGChGhU2"
      },
      "source": [
        "DIFFERENCE - Difference w.r.t n2"
      ]
    },
    {
      "cell_type": "code",
      "metadata": {
        "colab": {
          "base_uri": "https://localhost:8080/"
        },
        "id": "X8vAFDg0Gu09",
        "outputId": "7e2377e6-11b9-4f82-dbbb-c02c50f98b2d"
      },
      "source": [
        "n1=np.array([10,20,30,40,50,60])\n",
        "n2=np.array([40,50,60,70,80,90])\n",
        "np.setdiff1d(n2,n1)"
      ],
      "execution_count": null,
      "outputs": [
        {
          "output_type": "execute_result",
          "data": {
            "text/plain": [
              "array([70, 80, 90])"
            ]
          },
          "metadata": {
            "tags": []
          },
          "execution_count": 33
        }
      ]
    },
    {
      "cell_type": "markdown",
      "metadata": {
        "id": "sWJxX0RWHg6W"
      },
      "source": [
        "# NUMPY ARRAY MATHEMATICS"
      ]
    },
    {
      "cell_type": "markdown",
      "metadata": {
        "id": "nMDoBP1nHm1X"
      },
      "source": [
        "ADDITION"
      ]
    },
    {
      "cell_type": "code",
      "metadata": {
        "colab": {
          "base_uri": "https://localhost:8080/"
        },
        "id": "6VbZqfthIDMY",
        "outputId": "4125262f-81ff-449e-a30d-e94b30657c5a"
      },
      "source": [
        "n1=np.array([10,20,30])\n",
        "n2=np.array([40,50,60])\n",
        "np.sum([n1,n2])"
      ],
      "execution_count": null,
      "outputs": [
        {
          "output_type": "execute_result",
          "data": {
            "text/plain": [
              "210"
            ]
          },
          "metadata": {
            "tags": []
          },
          "execution_count": 35
        }
      ]
    },
    {
      "cell_type": "code",
      "metadata": {
        "colab": {
          "base_uri": "https://localhost:8080/"
        },
        "id": "13IJFXYQIX31",
        "outputId": "48849109-46d0-4b2a-e863-a07304d27fcd"
      },
      "source": [
        "n1=np.array([10,20,30])\n",
        "n2=np.array([40,50,60])\n",
        "np.sum([n1,n2],axis=0)\n",
        "\n",
        "#axis=0 (for remember purpose: vertical,rows)"
      ],
      "execution_count": null,
      "outputs": [
        {
          "output_type": "execute_result",
          "data": {
            "text/plain": [
              "array([50, 70, 90])"
            ]
          },
          "metadata": {
            "tags": []
          },
          "execution_count": 36
        }
      ]
    },
    {
      "cell_type": "code",
      "metadata": {
        "colab": {
          "base_uri": "https://localhost:8080/"
        },
        "id": "YyqEYuSCIX80",
        "outputId": "65bc4f5f-438a-48c1-f0f7-3495d04ece1a"
      },
      "source": [
        "n1=np.array([10,20,30])\n",
        "n2=np.array([40,50,60])\n",
        "np.sum([n1,n2],axis=1)\n",
        "\n",
        "#axis=1 (for remember purpose: horizontal,columns)"
      ],
      "execution_count": null,
      "outputs": [
        {
          "output_type": "execute_result",
          "data": {
            "text/plain": [
              "array([ 60, 150])"
            ]
          },
          "metadata": {
            "tags": []
          },
          "execution_count": 37
        }
      ]
    },
    {
      "cell_type": "markdown",
      "metadata": {
        "id": "HSc2XS9vJ1lZ"
      },
      "source": [
        "BASIC ADD SUB MUL DIV"
      ]
    },
    {
      "cell_type": "code",
      "metadata": {
        "colab": {
          "base_uri": "https://localhost:8080/"
        },
        "id": "6WFr09THJ7Ad",
        "outputId": "30af3779-a665-408f-a6e3-6c856efb61bc"
      },
      "source": [
        "n1=np.array([10,20,30])\n",
        "n1=n1+1\n",
        "n1"
      ],
      "execution_count": null,
      "outputs": [
        {
          "output_type": "execute_result",
          "data": {
            "text/plain": [
              "array([11, 21, 31])"
            ]
          },
          "metadata": {
            "tags": []
          },
          "execution_count": 40
        }
      ]
    },
    {
      "cell_type": "code",
      "metadata": {
        "colab": {
          "base_uri": "https://localhost:8080/"
        },
        "id": "H1mZwaoPKUgb",
        "outputId": "57121f69-5363-4381-d6e0-3936e78d77a0"
      },
      "source": [
        "n1=n1*5\n",
        "n1"
      ],
      "execution_count": null,
      "outputs": [
        {
          "output_type": "execute_result",
          "data": {
            "text/plain": [
              "array([ 55, 105, 155])"
            ]
          },
          "metadata": {
            "tags": []
          },
          "execution_count": 41
        }
      ]
    },
    {
      "cell_type": "code",
      "metadata": {
        "colab": {
          "base_uri": "https://localhost:8080/"
        },
        "id": "_3bdEk6fKUly",
        "outputId": "f3444e03-3d11-405b-f12d-d59ed5cb5e60"
      },
      "source": [
        "n1=n1-10\n",
        "n1"
      ],
      "execution_count": null,
      "outputs": [
        {
          "output_type": "execute_result",
          "data": {
            "text/plain": [
              "array([ 45,  95, 145])"
            ]
          },
          "metadata": {
            "tags": []
          },
          "execution_count": 42
        }
      ]
    },
    {
      "cell_type": "code",
      "metadata": {
        "colab": {
          "base_uri": "https://localhost:8080/"
        },
        "id": "OCCKXkoBKUqV",
        "outputId": "77d38f11-c234-4a31-e8fa-f0e8db3948e6"
      },
      "source": [
        "n1=n1*10\n",
        "n1"
      ],
      "execution_count": null,
      "outputs": [
        {
          "output_type": "execute_result",
          "data": {
            "text/plain": [
              "array([ 450,  950, 1450])"
            ]
          },
          "metadata": {
            "tags": []
          },
          "execution_count": 43
        }
      ]
    },
    {
      "cell_type": "markdown",
      "metadata": {
        "id": "MLtJsI99KyR2"
      },
      "source": [
        "MEAN , MEDIAN , STANDARD DEVIATION"
      ]
    },
    {
      "cell_type": "code",
      "metadata": {
        "colab": {
          "base_uri": "https://localhost:8080/"
        },
        "id": "hbOWh_gEK2cW",
        "outputId": "c50e65f9-df70-4139-c86b-6acb953e7b0c"
      },
      "source": [
        "n1=np.array([10,20,30])\n",
        "np.mean(n1)\n"
      ],
      "execution_count": null,
      "outputs": [
        {
          "output_type": "execute_result",
          "data": {
            "text/plain": [
              "20.0"
            ]
          },
          "metadata": {
            "tags": []
          },
          "execution_count": 48
        }
      ]
    },
    {
      "cell_type": "code",
      "metadata": {
        "colab": {
          "base_uri": "https://localhost:8080/"
        },
        "id": "5XgfNCGoK2im",
        "outputId": "cea5a44e-b6b0-4209-a7f6-33ff6408cf25"
      },
      "source": [
        "n1=np.array([10,20,30,40,450])\n",
        "np.median(n1)"
      ],
      "execution_count": null,
      "outputs": [
        {
          "output_type": "execute_result",
          "data": {
            "text/plain": [
              "30.0"
            ]
          },
          "metadata": {
            "tags": []
          },
          "execution_count": 50
        }
      ]
    },
    {
      "cell_type": "code",
      "metadata": {
        "colab": {
          "base_uri": "https://localhost:8080/"
        },
        "id": "dJkp6rFcK2oU",
        "outputId": "bba80b5b-3871-4882-afec-b9161de0f496"
      },
      "source": [
        "np.std(n1)"
      ],
      "execution_count": null,
      "outputs": [
        {
          "output_type": "execute_result",
          "data": {
            "text/plain": [
              "170.29386365926402"
            ]
          },
          "metadata": {
            "tags": []
          },
          "execution_count": 51
        }
      ]
    },
    {
      "cell_type": "markdown",
      "metadata": {
        "id": "WHhUbBXHL9RI"
      },
      "source": [
        "# SAVE AND LOAD NUMPY ARRAY"
      ]
    },
    {
      "cell_type": "code",
      "metadata": {
        "id": "tRwN5EmpL8xi"
      },
      "source": [
        "num1=np.array([10,20,30,40,50])\n",
        "np.save('my_numpy',num1)"
      ],
      "execution_count": null,
      "outputs": []
    },
    {
      "cell_type": "code",
      "metadata": {
        "colab": {
          "base_uri": "https://localhost:8080/"
        },
        "id": "Xw1_qVRIMifI",
        "outputId": "1aadf829-c1e8-4283-e101-7cea5963201a"
      },
      "source": [
        "num2=np.load('my_numpy.npy')\n",
        "num2"
      ],
      "execution_count": null,
      "outputs": [
        {
          "output_type": "execute_result",
          "data": {
            "text/plain": [
              "array([10, 20, 30, 40, 50])"
            ]
          },
          "metadata": {
            "tags": []
          },
          "execution_count": 53
        }
      ]
    },
    {
      "cell_type": "markdown",
      "metadata": {
        "id": "Ia7WN18sPrWE"
      },
      "source": [
        "# PANDAS"
      ]
    },
    {
      "cell_type": "markdown",
      "metadata": {
        "id": "A2X4qeHHPwtH"
      },
      "source": [
        "PANDAS stands for PANel DAta and it is the core library for Data Maniplulation and Data Analysis. It consists of single and multi-dimensinal data structures for Data Manipulations.\n",
        "\n",
        "Single Dimensional - Series Object\n",
        "\n",
        "Multi Dimensional  - Data Frame"
      ]
    },
    {
      "cell_type": "code",
      "metadata": {
        "id": "ofBrbXonQvqm"
      },
      "source": [
        "import pandas as pd"
      ],
      "execution_count": null,
      "outputs": []
    },
    {
      "cell_type": "markdown",
      "metadata": {
        "id": "4I996lc4RCCR"
      },
      "source": [
        "# PANDAS SERIES OBJECT\n"
      ]
    },
    {
      "cell_type": "markdown",
      "metadata": {
        "id": "xpQmQZZsRZa2"
      },
      "source": [
        "# Series object is one dimensional labeled array"
      ]
    },
    {
      "cell_type": "code",
      "metadata": {
        "colab": {
          "base_uri": "https://localhost:8080/"
        },
        "id": "Y3cKeR_JRnxZ",
        "outputId": "217fc0d7-50fd-4c58-9c74-ea1a3ea5b347"
      },
      "source": [
        "s1=pd.Series([1,2,3,4,5,6])\n",
        "s1"
      ],
      "execution_count": null,
      "outputs": [
        {
          "output_type": "execute_result",
          "data": {
            "text/plain": [
              "0    1\n",
              "1    2\n",
              "2    3\n",
              "3    4\n",
              "4    5\n",
              "5    6\n",
              "dtype: int64"
            ]
          },
          "metadata": {
            "tags": []
          },
          "execution_count": 56
        }
      ]
    },
    {
      "cell_type": "code",
      "metadata": {
        "colab": {
          "base_uri": "https://localhost:8080/"
        },
        "id": "4q7YQnbySHdd",
        "outputId": "f1d17a81-91a1-402b-9ae8-2494475dadad"
      },
      "source": [
        "type(s1)"
      ],
      "execution_count": null,
      "outputs": [
        {
          "output_type": "execute_result",
          "data": {
            "text/plain": [
              "pandas.core.series.Series"
            ]
          },
          "metadata": {
            "tags": []
          },
          "execution_count": 57
        }
      ]
    },
    {
      "cell_type": "code",
      "metadata": {
        "colab": {
          "base_uri": "https://localhost:8080/"
        },
        "id": "b5uqDpE_SnxL",
        "outputId": "0acd1554-f0fd-44dd-b850-4fcd53736338"
      },
      "source": [
        "s1=pd.Series([1,2,3,4,5,6],index=['a','b','c','d','e','f'])\n",
        "s1"
      ],
      "execution_count": null,
      "outputs": [
        {
          "output_type": "execute_result",
          "data": {
            "text/plain": [
              "a    1\n",
              "b    2\n",
              "c    3\n",
              "d    4\n",
              "e    5\n",
              "f    6\n",
              "dtype: int64"
            ]
          },
          "metadata": {
            "tags": []
          },
          "execution_count": 59
        }
      ]
    },
    {
      "cell_type": "code",
      "metadata": {
        "colab": {
          "base_uri": "https://localhost:8080/"
        },
        "id": "36foWM-eTd1s",
        "outputId": "9ef488a4-94e2-4dea-e7a6-f13ccf33ed21"
      },
      "source": [
        "s2={'a':10,'b':20,'c':30}\n",
        "pd.Series(s2,index=['b','c','a','d'])"
      ],
      "execution_count": null,
      "outputs": [
        {
          "output_type": "execute_result",
          "data": {
            "text/plain": [
              "b    20.0\n",
              "c    30.0\n",
              "a    10.0\n",
              "d     NaN\n",
              "dtype: float64"
            ]
          },
          "metadata": {
            "tags": []
          },
          "execution_count": 66
        }
      ]
    },
    {
      "cell_type": "markdown",
      "metadata": {
        "id": "wSFYIhA_UnwR"
      },
      "source": [
        "# EXTRACTING ELEMENTS"
      ]
    },
    {
      "cell_type": "code",
      "metadata": {
        "colab": {
          "base_uri": "https://localhost:8080/"
        },
        "id": "LSQiJvvQUwMg",
        "outputId": "277f33fa-8a0e-4611-cf1e-83e276512088"
      },
      "source": [
        "s1=pd.Series([1,2,3,4,5,6,7,8,9,10])\n",
        "print(s1[5])\n",
        "print(s1[7])"
      ],
      "execution_count": null,
      "outputs": [
        {
          "output_type": "stream",
          "text": [
            "6\n",
            "8\n"
          ],
          "name": "stdout"
        }
      ]
    },
    {
      "cell_type": "code",
      "metadata": {
        "colab": {
          "base_uri": "https://localhost:8080/"
        },
        "id": "74IXnytlVvWF",
        "outputId": "ca2517ee-7e98-4db1-d45a-efde06957e9a"
      },
      "source": [
        "s1[:-1]"
      ],
      "execution_count": null,
      "outputs": [
        {
          "output_type": "execute_result",
          "data": {
            "text/plain": [
              "0    1\n",
              "1    2\n",
              "2    3\n",
              "3    4\n",
              "4    5\n",
              "5    6\n",
              "6    7\n",
              "7    8\n",
              "8    9\n",
              "dtype: int64"
            ]
          },
          "metadata": {
            "tags": []
          },
          "execution_count": 81
        }
      ]
    },
    {
      "cell_type": "code",
      "metadata": {
        "colab": {
          "base_uri": "https://localhost:8080/"
        },
        "id": "-0z1qXpAVcf4",
        "outputId": "07ee6b23-104d-4bc8-f7af-e594dd370536"
      },
      "source": [
        "s1[:4]"
      ],
      "execution_count": null,
      "outputs": [
        {
          "output_type": "execute_result",
          "data": {
            "text/plain": [
              "0    1\n",
              "1    2\n",
              "2    3\n",
              "3    4\n",
              "dtype: int64"
            ]
          },
          "metadata": {
            "tags": []
          },
          "execution_count": 77
        }
      ]
    },
    {
      "cell_type": "markdown",
      "metadata": {
        "id": "OBGmTv4aWk7K"
      },
      "source": [
        "# SIMPLE MATHS"
      ]
    },
    {
      "cell_type": "code",
      "metadata": {
        "colab": {
          "base_uri": "https://localhost:8080/"
        },
        "id": "JbcX5dBXWuHs",
        "outputId": "2983ee48-afa7-43f2-dfbe-e54b81a26d53"
      },
      "source": [
        "s1"
      ],
      "execution_count": null,
      "outputs": [
        {
          "output_type": "execute_result",
          "data": {
            "text/plain": [
              "0     1\n",
              "1     2\n",
              "2     3\n",
              "3     4\n",
              "4     5\n",
              "5     6\n",
              "6     7\n",
              "7     8\n",
              "8     9\n",
              "9    10\n",
              "dtype: int64"
            ]
          },
          "metadata": {
            "tags": []
          },
          "execution_count": 84
        }
      ]
    },
    {
      "cell_type": "code",
      "metadata": {
        "colab": {
          "base_uri": "https://localhost:8080/"
        },
        "id": "SkZF1Ci3W3LA",
        "outputId": "c29b73b0-7634-4b86-b6c5-d44298a22a4b"
      },
      "source": [
        "s1+1"
      ],
      "execution_count": null,
      "outputs": [
        {
          "output_type": "execute_result",
          "data": {
            "text/plain": [
              "0     2\n",
              "1     3\n",
              "2     4\n",
              "3     5\n",
              "4     6\n",
              "5     7\n",
              "6     8\n",
              "7     9\n",
              "8    10\n",
              "9    11\n",
              "dtype: int64"
            ]
          },
          "metadata": {
            "tags": []
          },
          "execution_count": 85
        }
      ]
    },
    {
      "cell_type": "code",
      "metadata": {
        "colab": {
          "base_uri": "https://localhost:8080/"
        },
        "id": "x7pBqmUCW5Rb",
        "outputId": "7f1611cd-8b5f-470c-c81b-3757fe45d5d5"
      },
      "source": [
        "s1*10"
      ],
      "execution_count": null,
      "outputs": [
        {
          "output_type": "execute_result",
          "data": {
            "text/plain": [
              "0     10\n",
              "1     20\n",
              "2     30\n",
              "3     40\n",
              "4     50\n",
              "5     60\n",
              "6     70\n",
              "7     80\n",
              "8     90\n",
              "9    100\n",
              "dtype: int64"
            ]
          },
          "metadata": {
            "tags": []
          },
          "execution_count": 86
        }
      ]
    },
    {
      "cell_type": "code",
      "metadata": {
        "colab": {
          "base_uri": "https://localhost:8080/"
        },
        "id": "buPH91NBW5kk",
        "outputId": "ebec15e3-ae03-4d89-ad9e-407561acf852"
      },
      "source": [
        "s1-1"
      ],
      "execution_count": null,
      "outputs": [
        {
          "output_type": "execute_result",
          "data": {
            "text/plain": [
              "0    0\n",
              "1    1\n",
              "2    2\n",
              "3    3\n",
              "4    4\n",
              "5    5\n",
              "6    6\n",
              "7    7\n",
              "8    8\n",
              "9    9\n",
              "dtype: int64"
            ]
          },
          "metadata": {
            "tags": []
          },
          "execution_count": 87
        }
      ]
    },
    {
      "cell_type": "code",
      "metadata": {
        "colab": {
          "base_uri": "https://localhost:8080/"
        },
        "id": "zeF5vUS3XITB",
        "outputId": "57fa0090-3220-499c-e42a-a788f23f01fa"
      },
      "source": [
        "s2=pd.Series([12,11,19,10,12,1,2,3,4,5])\n",
        "s1+s2"
      ],
      "execution_count": null,
      "outputs": [
        {
          "output_type": "execute_result",
          "data": {
            "text/plain": [
              "0    13\n",
              "1    13\n",
              "2    22\n",
              "3    14\n",
              "4    17\n",
              "5     7\n",
              "6     9\n",
              "7    11\n",
              "8    13\n",
              "9    15\n",
              "dtype: int64"
            ]
          },
          "metadata": {
            "tags": []
          },
          "execution_count": 88
        }
      ]
    },
    {
      "cell_type": "markdown",
      "metadata": {
        "id": "ymHRWS4FYLsa"
      },
      "source": [
        "\n",
        "# Data Frame is a 2 dimensional labelled data structure\n",
        "\n"
      ]
    },
    {
      "cell_type": "markdown",
      "metadata": {
        "id": "UNCUQRbAYk-G"
      },
      "source": [
        "data frame comprises of rows and columns"
      ]
    },
    {
      "cell_type": "code",
      "metadata": {
        "colab": {
          "base_uri": "https://localhost:8080/",
          "height": 137
        },
        "id": "z6PqWnA2Yvwu",
        "outputId": "aea6d2d4-8422-4029-e484-5c77933a4daf"
      },
      "source": [
        "\n",
        "pd.DataFrame({'Name':['MR.X','MR.Y','MR.Z'],'marks':[80,90,70]})"
      ],
      "execution_count": null,
      "outputs": [
        {
          "output_type": "execute_result",
          "data": {
            "text/html": [
              "<div>\n",
              "<style scoped>\n",
              "    .dataframe tbody tr th:only-of-type {\n",
              "        vertical-align: middle;\n",
              "    }\n",
              "\n",
              "    .dataframe tbody tr th {\n",
              "        vertical-align: top;\n",
              "    }\n",
              "\n",
              "    .dataframe thead th {\n",
              "        text-align: right;\n",
              "    }\n",
              "</style>\n",
              "<table border=\"1\" class=\"dataframe\">\n",
              "  <thead>\n",
              "    <tr style=\"text-align: right;\">\n",
              "      <th></th>\n",
              "      <th>Name</th>\n",
              "      <th>marks</th>\n",
              "    </tr>\n",
              "  </thead>\n",
              "  <tbody>\n",
              "    <tr>\n",
              "      <th>0</th>\n",
              "      <td>MR.X</td>\n",
              "      <td>80</td>\n",
              "    </tr>\n",
              "    <tr>\n",
              "      <th>1</th>\n",
              "      <td>MR.Y</td>\n",
              "      <td>90</td>\n",
              "    </tr>\n",
              "    <tr>\n",
              "      <th>2</th>\n",
              "      <td>MR.Z</td>\n",
              "      <td>70</td>\n",
              "    </tr>\n",
              "  </tbody>\n",
              "</table>\n",
              "</div>"
            ],
            "text/plain": [
              "   Name  marks\n",
              "0  MR.X     80\n",
              "1  MR.Y     90\n",
              "2  MR.Z     70"
            ]
          },
          "metadata": {
            "tags": []
          },
          "execution_count": 91
        }
      ]
    },
    {
      "cell_type": "code",
      "metadata": {
        "id": "_Pc_3S9AanHM"
      },
      "source": [
        "pd.read_csv('enter a file name')"
      ],
      "execution_count": null,
      "outputs": []
    },
    {
      "cell_type": "code",
      "metadata": {
        "id": "0HZwcqcraUtF"
      },
      "source": [
        "pd.head()"
      ],
      "execution_count": null,
      "outputs": []
    },
    {
      "cell_type": "code",
      "metadata": {
        "id": "cvvdMLNcaU_C"
      },
      "source": [
        "pd.tail()"
      ],
      "execution_count": null,
      "outputs": []
    }
  ]
}